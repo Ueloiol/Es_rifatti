{
  "nbformat": 4,
  "nbformat_minor": 0,
  "metadata": {
    "colab": {
      "provenance": []
    },
    "kernelspec": {
      "name": "python3",
      "display_name": "Python 3"
    },
    "language_info": {
      "name": "python"
    }
  },
  "cells": [
    {
      "cell_type": "code",
      "source": [
        "\"\"\"\n",
        "Rappresentare con le classi e l'ereditarietà una lista di operai di una\n",
        "fabbrica e il loro ruolo in fabbrica. Creare un menù per l'aggiunta\n",
        "e la rimozione degli operai dalla lista\n",
        "\"\"\""
      ],
      "metadata": {
        "colab": {
          "base_uri": "https://localhost:8080/",
          "height": 53
        },
        "id": "wlxn2uALghnk",
        "outputId": "d7265367-5e3f-4d9e-d9b1-800311a0d6ca"
      },
      "execution_count": null,
      "outputs": [
        {
          "output_type": "execute_result",
          "data": {
            "text/plain": [
              "\"\\nRappresentare con le classi e l'ereditarietà una lista di operai di una\\nfabbrica e il loro ruolo in fabbrica. Creare un menù per l'aggiunta\\ne la rimozione degli operai dalla lista\\n\""
            ],
            "application/vnd.google.colaboratory.intrinsic+json": {
              "type": "string"
            }
          },
          "metadata": {},
          "execution_count": 1
        }
      ]
    },
    {
      "cell_type": "code",
      "execution_count": null,
      "metadata": {
        "id": "4pbB3kP6eOfW"
      },
      "outputs": [],
      "source": [
        "##### DEF CLASSI\n",
        "#####\n",
        "\n",
        "# definizione classe madre Fabbrica in cui inizializzo\n",
        "# l'elenco di operai (Elenco = []) e definisco i metodi\n",
        "# per l'aggiunta rimozione e visualizzazione degli operai\n",
        "# e per l'inizializzazione dell'elenco\n",
        "\n",
        "class Fabbrica:\n",
        "    Elenco = []\n",
        "\n",
        "    def __init__(self, Nome_Fabbrica):\n",
        "      self.Nome_Fabbrica = Nome_Fabbrica\n",
        "\n",
        "    def aggiungi_operaio(self):\n",
        "      print('\\nInserisci le seguenti informazioni:')\n",
        "      ID = int(input('ID '))\n",
        "      Nome = input('Nome ')\n",
        "      Ruolo = input('Ruolo ')\n",
        "      x = Operaio(self.Nome_Fabbrica, ID, Nome, Ruolo)\n",
        "      self.Elenco.append(x)\n",
        "\n",
        "    def elimina_operaio(self):\n",
        "        if len(self.Elenco) > 0:\n",
        "          print('\\nInserisci ID da rimuovere')\n",
        "          ID = int(input(''))\n",
        "          del self.Elenco[ID-1]\n",
        "        else:\n",
        "          print('\\nDevi inserire almeno un operaio')\n",
        "\n",
        "    def stampa_elenco(self):\n",
        "        if len(self.Elenco) > 0:\n",
        "            for i in range(len(self.Elenco)):\n",
        "              print('\\nID:    ', self.Elenco[i].ID)\n",
        "              print('Nome:  ', self.Elenco[i].Nome)\n",
        "              print('Ruolo: ', self.Elenco[i].Ruolo)\n",
        "        else:\n",
        "          print('\\nDevi inserire almeno un operaio')\n",
        "    \n",
        "    def inizializza_elenco(self):\n",
        "        self.Elenco=[]\n",
        "\n",
        "\n",
        "class Operaio(Fabbrica):\n",
        "    def __init__(self, Nome_Fabbrica, ID, Nome, Ruolo):\n",
        "      super().__init__(Nome_Fabbrica)\n",
        "      self.ID = ID\n",
        "      self.Nome = Nome\n",
        "      self.Ruolo = Ruolo"
      ]
    },
    {
      "cell_type": "code",
      "source": [
        "##### DEF FUNZIONI\n",
        "#####\n",
        "\n",
        "# definizione delle funzioni che non sono metodi della classe\n",
        "# in questo contesto sono funzioni che permettono \n",
        "# l'interazione con l'utente per l'inserimento dei\n",
        "# comandi opportuni.\n",
        "\n",
        "def messaggio_switch():\n",
        "    print('\\nCosa vuoi fare?')\n",
        "    print('(1) Esci?')\n",
        "    print('(2) Entra')\n",
        "    scelta = int(input(''))\n",
        "    return scelta\n",
        "\n",
        "def messaggio_switch_2():\n",
        "    print('\\nCosa vuoi fare?')\n",
        "    print('(1) Torna al menu iniziale')\n",
        "    print('(2) Aggiungi un operaio')\n",
        "    print('(3) Rimuovi un operaio')\n",
        "    print('(4) Visualizza elenco operai')\n",
        "    print('(5) Inizializza elenco operai')\n",
        "\n",
        "    scelta = int(input(''))\n",
        "    return scelta"
      ],
      "metadata": {
        "id": "6-rpcGpGeVXL"
      },
      "execution_count": null,
      "outputs": []
    },
    {
      "cell_type": "code",
      "source": [
        "##### DEF CICLI (LOGICA)\n",
        "#####\n",
        "\n",
        "# definizione della logica vera e propria del codice.\n",
        "# All'interno dei vari cicli vengono richiamate le \n",
        "# funzioni e i metodi definiti precedentemente.\n",
        "\n",
        "# switch più esterno, permette di entrare nel cuore del\n",
        "# programma o uscire.\n",
        "def switch():\n",
        "    while True:\n",
        "      scelta = messaggio_switch()\n",
        "\n",
        "      if scelta == 1:\n",
        "         break\n",
        "\n",
        "      elif scelta == 2:\n",
        "         second_switch()\n",
        "\n",
        "# switch indentato più interno, che viene richiamato\n",
        "# dallo switch più esterno. Permette di effettuare\n",
        "# diverse operazioni oppure di tornare al menu iniziale\n",
        "def second_switch():\n",
        "    while True:\n",
        "      scelta = messaggio_switch_2()\n",
        "\n",
        "      if scelta == 1:\n",
        "        break\n",
        "\n",
        "      elif scelta == 2:\n",
        "        Y.aggiungi_operaio()\n",
        "\n",
        "      elif scelta == 3:\n",
        "        Y.elimina_operaio()\n",
        "\n",
        "      elif scelta == 4:\n",
        "        Y.stampa_elenco()\n",
        "\n",
        "      elif scelta == 5:\n",
        "        Y.inizializza_elenco()"
      ],
      "metadata": {
        "id": "k656Dp7xeVfw"
      },
      "execution_count": null,
      "outputs": []
    },
    {
      "cell_type": "code",
      "source": [
        "##### ESECUZIONE \n",
        "#####\n",
        "\n",
        "# viene creato l'oggetto Y grazie\n",
        "# alla classe Fabbrica e viene richiamato\n",
        "# il ciclo switch() più esterno che a sua volta\n",
        "# richiamerà tutte le altre parti del codice.\n",
        "\n",
        "Y = Fabbrica('Top_Engineering')\n",
        "switch()\n"
      ],
      "metadata": {
        "colab": {
          "base_uri": "https://localhost:8080/"
        },
        "id": "UrgzcLL0eVre",
        "outputId": "9802ddd4-5d0d-4f96-f1ac-3f9df3cd05d9"
      },
      "execution_count": null,
      "outputs": [
        {
          "name": "stdout",
          "output_type": "stream",
          "text": [
            "\n",
            "Cosa vuoi fare?\n",
            "(1) Esci?\n",
            "(2) Entra\n",
            "2\n",
            "\n",
            "Cosa vuoi fare?\n",
            "(1) Torna al menu iniziale\n",
            "(2) Aggiungi un operaio\n",
            "(3) Rimuovi un operaio\n",
            "(4) Visualizza elenco operai\n",
            "(5) Inizializza elenco operai\n",
            "4\n",
            "\n",
            "Devi inserire almeno un operaio\n",
            "\n",
            "Cosa vuoi fare?\n",
            "(1) Torna al menu iniziale\n",
            "(2) Aggiungi un operaio\n",
            "(3) Rimuovi un operaio\n",
            "(4) Visualizza elenco operai\n",
            "(5) Inizializza elenco operai\n",
            "2\n",
            "\n",
            "Inserisci le seguenti informazioni:\n",
            "ID 1\n",
            "Nome marco\n",
            "Ruolo elettronico\n",
            "\n",
            "Cosa vuoi fare?\n",
            "(1) Torna al menu iniziale\n",
            "(2) Aggiungi un operaio\n",
            "(3) Rimuovi un operaio\n",
            "(4) Visualizza elenco operai\n",
            "(5) Inizializza elenco operai\n",
            "2\n",
            "\n",
            "Inserisci le seguenti informazioni:\n",
            "ID 2\n",
            "Nome giovanni\n",
            "Ruolo chimico\n",
            "\n",
            "Cosa vuoi fare?\n",
            "(1) Torna al menu iniziale\n",
            "(2) Aggiungi un operaio\n",
            "(3) Rimuovi un operaio\n",
            "(4) Visualizza elenco operai\n",
            "(5) Inizializza elenco operai\n",
            "4\n",
            "\n",
            "ID:     1\n",
            "Nome:   marco\n",
            "Ruolo:  elettronico\n",
            "\n",
            "ID:     2\n",
            "Nome:   giovanni\n",
            "Ruolo:  chimico\n",
            "\n",
            "Cosa vuoi fare?\n",
            "(1) Torna al menu iniziale\n",
            "(2) Aggiungi un operaio\n",
            "(3) Rimuovi un operaio\n",
            "(4) Visualizza elenco operai\n",
            "(5) Inizializza elenco operai\n",
            "5\n",
            "\n",
            "Cosa vuoi fare?\n",
            "(1) Torna al menu iniziale\n",
            "(2) Aggiungi un operaio\n",
            "(3) Rimuovi un operaio\n",
            "(4) Visualizza elenco operai\n",
            "(5) Inizializza elenco operai\n",
            "4\n",
            "\n",
            "Devi inserire almeno un operaio\n",
            "\n",
            "Cosa vuoi fare?\n",
            "(1) Torna al menu iniziale\n",
            "(2) Aggiungi un operaio\n",
            "(3) Rimuovi un operaio\n",
            "(4) Visualizza elenco operai\n",
            "(5) Inizializza elenco operai\n",
            "1\n",
            "\n",
            "Cosa vuoi fare?\n",
            "(1) Esci?\n",
            "(2) Entra\n",
            "1\n"
          ]
        }
      ]
    }
  ]
}