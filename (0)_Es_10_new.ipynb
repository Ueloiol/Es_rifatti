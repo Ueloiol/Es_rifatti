{
  "nbformat": 4,
  "nbformat_minor": 0,
  "metadata": {
    "colab": {
      "provenance": []
    },
    "kernelspec": {
      "name": "python3",
      "display_name": "Python 3"
    },
    "language_info": {
      "name": "python"
    }
  },
  "cells": [
    {
      "cell_type": "code",
      "execution_count": null,
      "metadata": {
        "id": "4pbB3kP6eOfW"
      },
      "outputs": [],
      "source": [
        "##### DEF CLASSI\n",
        "#####\n",
        "\n",
        "# definizione classe madre Fabbrica in cui inizializzo\n",
        "# l'elenco di operai (Elenco = []) e definisco i metodi\n",
        "# per l'aggiunta rimozione e visualizzazione degli operai\n",
        "# e per l'inizializzazione dell'elenco\n",
        "\n",
        "class Elenco_Utenti:\n",
        "    Elenco = []\n",
        "    \n",
        "    def registra_utente(self):\n",
        "        nome = input('\\ninserisci lo username: ')\n",
        "        password = input('inserisci la password: ')\n",
        "\n",
        "        counter = 0\n",
        "        for i in range(len(self.Elenco)):\n",
        "          if nome == self.Elenco[i].Username :\n",
        "              counter += 1\n",
        "        \n",
        "        if counter== 0:\n",
        "          x= Utente(nome, password)\n",
        "          self.Elenco.append(x)\n",
        "        \n",
        "        else:\n",
        "          print('\\nutente già registrato, devi effettuare il login')\n",
        "\n",
        "    def login_utente(self):\n",
        "        nome = input('\\ninserisci lo username: ')\n",
        "        password = input('inserisci la password: ')\n",
        "\n",
        "        flag=0\n",
        "        for i in range(len(self.Elenco)):\n",
        "          if nome == self.Elenco[i].Username and password == self.Elenco[i].Password:\n",
        "            flag+=1\n",
        "          \n",
        "        if flag==1:\n",
        "          print('\\nlogin effettuato con successo!')\n",
        "        \n",
        "        else:\n",
        "          print('\\nspiacente, credenziali errate, riprovare')\n",
        "\n",
        "class Utente:\n",
        "\n",
        "    def __init__(self, Username, Password):\n",
        "      self.Username = Username\n",
        "      self.Password = Password\n"
      ]
    },
    {
      "cell_type": "code",
      "source": [
        "##### DEF FUNZIONI\n",
        "#####\n",
        "\n",
        "# definizione delle funzioni che non sono metodi della classe\n",
        "# in questo contesto sono funzioni che permettono \n",
        "# l'interazione con l'utente per l'inserimento dei\n",
        "# comandi opportuni.\n",
        "\n",
        "def messaggio_switch():\n",
        "    print('\\nCosa vuoi fare?')\n",
        "    print('(1) Esci')\n",
        "    print('(2) Registrati')\n",
        "    print('(3) Login')\n",
        "    scelta = int(input(''))\n",
        "    return scelta\n",
        "\n",
        "def messaggio_switch_2():\n",
        "    print('\\nCosa vuoi fare?')\n",
        "    print('(1) Torna al menu iniziale')\n",
        "    print('(2) Registrati')\n",
        "    print('(3) Login')\n",
        "    scelta = int(input(''))\n",
        "    return scelta"
      ],
      "metadata": {
        "id": "6-rpcGpGeVXL"
      },
      "execution_count": null,
      "outputs": []
    },
    {
      "cell_type": "code",
      "source": [
        "##### DEF CICLI (LOGICA)\n",
        "#####\n",
        "\n",
        "# definizione della logica vera e propria del codice.\n",
        "# All'interno dei vari cicli vengono richiamate le \n",
        "# funzioni e i metodi definiti precedentemente.\n",
        "\n",
        "# switch più esterno, permette di entrare nel cuore del\n",
        "# programma o uscire.\n",
        "def switch():\n",
        "    while True:\n",
        "      scelta = messaggio_switch()\n",
        "\n",
        "      if scelta == 1:\n",
        "         break\n",
        "      \n",
        "      if scelta ==2:\n",
        "\n",
        "      elif scelta == 2:\n",
        "         second_switch()\n",
        "\n",
        "# switch indentato più interno, che viene richiamato\n",
        "# dallo switch più esterno. Permette di effettuare\n",
        "# diverse operazioni oppure di tornare al menu iniziale\n",
        "def second_switch():\n",
        "    while True:\n",
        "      scelta = messaggio_switch_2()\n",
        "\n",
        "      if scelta == 1:\n",
        "        break\n",
        "\n",
        "      elif scelta == 2:\n",
        "        Y.registra_utente()\n",
        "\n",
        "      elif scelta == 3:\n",
        "        Y.login_utente()\n"
      ],
      "metadata": {
        "id": "k656Dp7xeVfw"
      },
      "execution_count": null,
      "outputs": []
    },
    {
      "cell_type": "code",
      "source": [
        "##### ESECUZIONE\n",
        "#####\n",
        "\n",
        "Y = Elenco_Utenti()\n",
        "\n",
        "switch()\n"
      ],
      "metadata": {
        "colab": {
          "base_uri": "https://localhost:8080/"
        },
        "id": "MDTE-CA895Q7",
        "outputId": "c9e309a4-b51d-47ec-f50c-266fb4519527"
      },
      "execution_count": null,
      "outputs": [
        {
          "name": "stdout",
          "output_type": "stream",
          "text": [
            "\n",
            "Cosa vuoi fare?\n",
            "(1) Esci\n",
            "(2) Entra nel sistema\n",
            "2\n",
            "\n",
            "Cosa vuoi fare?\n",
            "(1) Torna al menu iniziale\n",
            "(2) Registrati\n",
            "(3) Login\n",
            "2\n",
            "\n",
            "inserisci lo username: marco\n",
            "inserisci la password: 123stella\n",
            "\n",
            "Cosa vuoi fare?\n",
            "(1) Torna al menu iniziale\n",
            "(2) Registrati\n",
            "(3) Login\n",
            "3\n",
            "\n",
            "inserisci lo username: marco\n",
            "inserisci la password: 123stella\n",
            "\n",
            "login effettuato con successo!\n",
            "\n",
            "Cosa vuoi fare?\n",
            "(1) Torna al menu iniziale\n",
            "(2) Registrati\n",
            "(3) Login\n",
            "1\n",
            "\n",
            "Cosa vuoi fare?\n",
            "(1) Esci\n",
            "(2) Entra nel sistema\n",
            "1\n"
          ]
        }
      ]
    }
  ]
}